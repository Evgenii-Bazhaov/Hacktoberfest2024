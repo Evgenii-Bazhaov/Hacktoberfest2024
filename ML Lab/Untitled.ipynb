{
 "cells": [
  {
   "cell_type": "code",
   "execution_count": 14,
   "id": "c60e64e9-60e9-49f7-8c87-52aa793438d8",
   "metadata": {},
   "outputs": [
    {
     "name": "stdout",
     "output_type": "stream",
     "text": [
      "{'swati': {'branch': 'cse', 'ML_marks': 89}, 'john': {'branch': 'ece', 'ML_marks': 90}, 'Ram': {'branch': 'civil', 'ML_marks': 100}, 'ravi': {'branch': 'mechanical', 'ML_marks': 18}, 'frank': {'branch': 'cse core', 'ML_marks': 60}}\n"
     ]
    }
   ],
   "source": [
    "students={\n",
    "    \"swati\":{\"branch\":\"cse\",\"ML_marks\":89},\n",
    "    \"john\":{\"branch\":\"ece\",\"ML_marks\":90},\n",
    "    \"Ram\":{\"branch\":\"civil\",\"ML_marks\":100},\n",
    "    \"ravi\":{\"branch\":\"mechanical\",\"ML_marks\":18}\n",
    "    \n",
    "}   \n",
    "students[\"frank\"]={\"branch\":\"cse core\",\"ML_marks\":60}\n",
    "print(students)\n",
    "    "
   ]
  },
  {
   "cell_type": "code",
   "execution_count": 7,
   "id": "ee0c2766-a554-4c60-afb2-28f7bb39ae61",
   "metadata": {},
   "outputs": [
    {
     "name": "stdout",
     "output_type": "stream",
     "text": [
      "{'swati': {'branch': 'cse', 'ML_marks': 89}, 'john': {'branch': 'ece', 'Ml_marks': 90}, 'Ram': {'branch': 'civil', 'ML_marks': 100}, 'ravi': {'branch': 'mechanical', 'ML_marks': 18}, 'frank': {'branch': 'cse core', 'ML_marks': 60}}\n"
     ]
    }
   ],
   "source": [
    "students[\"frank\"]={\"branch\":\"cse core\",\"ML_marks\":60}\n",
    "print(students)\n"
   ]
  },
  {
   "cell_type": "code",
   "execution_count": 8,
   "id": "461f11ba-878f-45cf-8b3e-f4da30b9bf1c",
   "metadata": {},
   "outputs": [
    {
     "ename": "KeyError",
     "evalue": "'ML_marks'",
     "output_type": "error",
     "traceback": [
      "\u001b[1;31m---------------------------------------------------------------------------\u001b[0m",
      "\u001b[1;31mKeyError\u001b[0m                                  Traceback (most recent call last)",
      "Cell \u001b[1;32mIn[8], line 3\u001b[0m\n\u001b[0;32m      1\u001b[0m total_marks\u001b[38;5;241m=\u001b[39m\u001b[38;5;241m0\u001b[39m\n\u001b[0;32m      2\u001b[0m \u001b[38;5;28;01mfor\u001b[39;00m student \u001b[38;5;129;01min\u001b[39;00m students\u001b[38;5;241m.\u001b[39mvalues():\n\u001b[1;32m----> 3\u001b[0m     total_marks\u001b[38;5;241m+\u001b[39m\u001b[38;5;241m=\u001b[39m students[\u001b[38;5;124m\"\u001b[39m\u001b[38;5;124mML_marks\u001b[39m\u001b[38;5;124m\"\u001b[39m]\n\u001b[0;32m      4\u001b[0m averagemarks\u001b[38;5;241m=\u001b[39mtotalmarks\u001b[38;5;241m/\u001b[39m\u001b[38;5;28mlen\u001b[39m(students)\n\u001b[0;32m      5\u001b[0m \u001b[38;5;28mprint\u001b[39m(total_marks)\n",
      "\u001b[1;31mKeyError\u001b[0m: 'ML_marks'"
     ]
    }
   ],
   "source": [
    "\n",
    "total_marks=0\n",
    "for student in students.values():\n",
    "    total_marks+= students[\"ML_marks\"]\n",
    "averagemarks=totalmarks/len(students)\n",
    "print(total_marks)\n",
    "print(averagemarks)\n"
   ]
  },
  {
   "cell_type": "code",
   "execution_count": null,
   "id": "ec6b20eb-e139-4a99-a9c1-bdd8f0ca6161",
   "metadata": {},
   "outputs": [],
   "source": []
  },
  {
   "cell_type": "code",
   "execution_count": 11,
   "id": "b4a3986e-05d4-46d3-ad65-92ed39d8899e",
   "metadata": {
    "scrolled": true
   },
   "outputs": [
    {
     "ename": "KeyError",
     "evalue": "'ML_marks'",
     "output_type": "error",
     "traceback": [
      "\u001b[1;31m---------------------------------------------------------------------------\u001b[0m",
      "\u001b[1;31mKeyError\u001b[0m                                  Traceback (most recent call last)",
      "Cell \u001b[1;32mIn[11], line 3\u001b[0m\n\u001b[0;32m      1\u001b[0m total\u001b[38;5;241m=\u001b[39m\u001b[38;5;241m0\u001b[39m\n\u001b[0;32m      2\u001b[0m \u001b[38;5;28;01mfor\u001b[39;00m students \u001b[38;5;129;01min\u001b[39;00m students\u001b[38;5;241m.\u001b[39mvalues():\n\u001b[1;32m----> 3\u001b[0m     total\u001b[38;5;241m+\u001b[39m\u001b[38;5;241m=\u001b[39m students[\u001b[38;5;124m\"\u001b[39m\u001b[38;5;124mML_marks\u001b[39m\u001b[38;5;124m\"\u001b[39m]\n\u001b[0;32m      4\u001b[0m averagemark\u001b[38;5;241m=\u001b[39mtotal\u001b[38;5;241m/\u001b[39m\u001b[38;5;28mlen\u001b[39m(students)\n\u001b[0;32m      5\u001b[0m \u001b[38;5;28mprint\u001b[39m(total)\n",
      "\u001b[1;31mKeyError\u001b[0m: 'ML_marks'"
     ]
    }
   ],
   "source": [
    "total=0\n",
    "for students in students.values():\n",
    "    total+= students[\"ML_marks\"]\n",
    "averagemark=total/len(students)\n",
    "print(total)\n",
    "print(averagemark)"
   ]
  },
  {
   "cell_type": "code",
   "execution_count": 15,
   "id": "be18e3c4-ba81-4ff6-98e9-259f34387a98",
   "metadata": {},
   "outputs": [
    {
     "name": "stdout",
     "output_type": "stream",
     "text": [
      "178.5\n"
     ]
    }
   ],
   "source": [
    "total=0\n",
    "for students in students.values():\n",
    "    total+= students[\"ML_marks\"]\n",
    "averagemark=total/len(students)\n",
    "\n",
    "print(averagemark)"
   ]
  },
  {
   "cell_type": "code",
   "execution_count": 21,
   "id": "6c9e5d27-5642-4f85-9223-af51477dd420",
   "metadata": {},
   "outputs": [
    {
     "ename": "TypeError",
     "evalue": "string indices must be integers, not 'str'",
     "output_type": "error",
     "traceback": [
      "\u001b[1;31m---------------------------------------------------------------------------\u001b[0m",
      "\u001b[1;31mTypeError\u001b[0m                                 Traceback (most recent call last)",
      "Cell \u001b[1;32mIn[21], line 4\u001b[0m\n\u001b[0;32m      2\u001b[0m highest_value \u001b[38;5;241m=\u001b[39m \u001b[38;5;241m-\u001b[39m\u001b[38;5;241m1\u001b[39m\n\u001b[0;32m      3\u001b[0m \u001b[38;5;28;01mfor\u001b[39;00m name, details \u001b[38;5;129;01min\u001b[39;00m students\u001b[38;5;241m.\u001b[39mitems():\n\u001b[1;32m----> 4\u001b[0m     \u001b[38;5;28;01mif\u001b[39;00m details[\u001b[38;5;124m\"\u001b[39m\u001b[38;5;124mML_marks\u001b[39m\u001b[38;5;124m\"\u001b[39m] \u001b[38;5;241m>\u001b[39m highest_value:\n\u001b[0;32m      5\u001b[0m         highest_value \u001b[38;5;241m=\u001b[39m details[\u001b[38;5;124m\"\u001b[39m\u001b[38;5;124mML_marks\u001b[39m\u001b[38;5;124m\"\u001b[39m]\n\u001b[0;32m      6\u001b[0m         top \u001b[38;5;241m=\u001b[39m [name]\n",
      "\u001b[1;31mTypeError\u001b[0m: string indices must be integers, not 'str'"
     ]
    }
   ],
   "source": [
    "top = []\n",
    "highest_value = -1\n",
    "for name, details in students.items():\n",
    "    if details[\"ML_marks\"] > highest_value:\n",
    "        highest_value = details[\"ML_marks\"]\n",
    "        top = [name]\n",
    "    elif details[\"ML_marks\"] == highest_value:\n",
    "        top.append(name)\n",
    "\n",
    "print(highest_value)\n",
    "print(top)\n",
    "\n",
    "    "
   ]
  },
  {
   "cell_type": "code",
   "execution_count": 25,
   "id": "86885656-69df-43c2-af3f-301a0897b9ff",
   "metadata": {},
   "outputs": [
    {
     "name": "stdout",
     "output_type": "stream",
     "text": [
      "{'swati': {'branch': 'cse', 'ML_marks': 89}, 'john': {'branch': 'ece', 'ML_marks': 90}, 'Ram': {'branch': 'civil', 'ML_marks': 100}, 'ravi': {'branch': 'mechanical', 'ML_marks': 18}, 'frank': {'branch': 'cse core', 'ML_marks': 60}}\n",
      "Print the higest value: 100\n",
      "Get the top of the value: ['Ram']\n"
     ]
    }
   ],
   "source": [
    "students = {\n",
    "    \"swati\": {\"branch\": \"cse\", \"ML_marks\": 89},\n",
    "    \"john\": {\"branch\": \"ece\", \"ML_marks\": 90},\n",
    "    \"Ram\": {\"branch\": \"civil\", \"ML_marks\": 100},\n",
    "    \"ravi\": {\"branch\": \"mechanical\", \"ML_marks\": 18}\n",
    "}\n",
    "\n",
    "students[\"frank\"] = {\"branch\": \"cse core\", \"ML_marks\": 60}\n",
    "print(students)\n",
    "\n",
    "top = []\n",
    "highest_value = -1\n",
    "for name, details in students.items():\n",
    "    if details[\"ML_marks\"] > highest_value:\n",
    "        highest_value = details[\"ML_marks\"]\n",
    "        top = [name]\n",
    "    elif details[\"ML_marks\"] == highest_value:\n",
    "        top.append(name)\n",
    "\n",
    "print(\"Print the higest value:\",highest_value)\n",
    "print(\"Get the top of the value:\" ,top)\n",
    "\n"
   ]
  },
  {
   "cell_type": "code",
   "execution_count": 34,
   "id": "ecbe986d-b190-471b-ba47-4b383fc8075f",
   "metadata": {},
   "outputs": [
    {
     "name": "stdout",
     "output_type": "stream",
     "text": [
      "sorted value: {'Ram': {'branch': 'civil', 'ML_marks': 100}, 'frank': {'branch': 'cse core', 'ML_marks': 60}, 'john': {'branch': 'ece', 'ML_marks': 90}, 'ravi': {'branch': 'mechanical', 'ML_marks': 18}, 'swati': {'branch': 'cse', 'ML_marks': 89}}\n"
     ]
    }
   ],
   "source": [
    "sortedlist=dict(sorted(students.items()))\n",
    "print(\"sorted value:\",sortedlist)"
   ]
  },
  {
   "cell_type": "code",
   "execution_count": 18,
   "id": "f6fab4e7-2682-47fd-a8d9-0e16d06c38bf",
   "metadata": {},
   "outputs": [
    {
     "name": "stdout",
     "output_type": "stream",
     "text": [
      "now the elements are:\n",
      "[50, 100, 70, 20]\n"
     ]
    }
   ],
   "source": [
    "stack= []\n",
    "stack.append (50)\n",
    "stack.append(100)\n",
    "stack.append(70)\n",
    "stack.append(20)\n",
    "print (\"now the elements are:\")\n",
    "print (stack)"
   ]
  },
  {
   "cell_type": "code",
   "execution_count": null,
   "id": "8b784646-5999-43bf-a969-843035a20ff8",
   "metadata": {},
   "outputs": [],
   "source": []
  },
  {
   "cell_type": "code",
   "execution_count": null,
   "id": "4ed09726-6f20-4c24-90d5-66c6dbe1896d",
   "metadata": {},
   "outputs": [],
   "source": []
  },
  {
   "cell_type": "code",
   "execution_count": 19,
   "id": "63b22c3e-0432-4ec9-bb77-bc3128013d12",
   "metadata": {},
   "outputs": [
    {
     "name": "stdout",
     "output_type": "stream",
     "text": [
      "stack element: [50, 100, 70, 20]\n",
      "stack is not empty\n"
     ]
    }
   ],
   "source": [
    "#pop two element in the stack \n",
    "print(\"stack element:\",stack)\n",
    "if len(stack)==0:\n",
    "    print(\"stack is empty\")\n",
    "else:\n",
    "    print(\"stack is not empty\")\n",
    "\n"
   ]
  },
  {
   "cell_type": "code",
   "execution_count": null,
   "id": "3d37a38e-3763-4fdb-9ff1-8b519df17570",
   "metadata": {},
   "outputs": [],
   "source": []
  },
  {
   "cell_type": "code",
   "execution_count": null,
   "id": "cfd937e5-2c0d-4021-ab8d-59040703a1e6",
   "metadata": {},
   "outputs": [],
   "source": [
    "write a menu based program for stack operation."
   ]
  },
  {
   "cell_type": "code",
   "execution_count": 28,
   "id": "4ab1d5e8-82d5-4f33-ba75-3e150cc4fb80",
   "metadata": {},
   "outputs": [
    {
     "name": "stdout",
     "output_type": "stream",
     "text": [
      "\n",
      "python implemenation of stack\n",
      "\n",
      "1.view stack\n",
      "2.push onto stack\n",
      "3.pop out of stack\n",
      "\n",
      "\n"
     ]
    },
    {
     "name": "stdin",
     "output_type": "stream",
     "text": [
      "enter the menu: 2\n"
     ]
    },
    {
     "name": "stdout",
     "output_type": "stream",
     "text": [
      "\n",
      "\n"
     ]
    },
    {
     "name": "stdin",
     "output_type": "stream",
     "text": [
      "enter the item you wanna add to the existing stack: Naan\n"
     ]
    },
    {
     "name": "stdout",
     "output_type": "stream",
     "text": [
      "\n",
      "python implemenation of stack\n",
      "\n",
      "1.view stack\n",
      "2.push onto stack\n",
      "3.pop out of stack\n",
      "\n",
      "\n"
     ]
    },
    {
     "name": "stdin",
     "output_type": "stream",
     "text": [
      "enter the menu: 2\n"
     ]
    },
    {
     "name": "stdout",
     "output_type": "stream",
     "text": [
      "\n",
      "\n"
     ]
    },
    {
     "name": "stdin",
     "output_type": "stream",
     "text": [
      "enter the item you wanna add to the existing stack: Chicken\n"
     ]
    },
    {
     "name": "stdout",
     "output_type": "stream",
     "text": [
      "\n",
      "python implemenation of stack\n",
      "\n",
      "1.view stack\n",
      "2.push onto stack\n",
      "3.pop out of stack\n",
      "\n",
      "\n"
     ]
    },
    {
     "name": "stdin",
     "output_type": "stream",
     "text": [
      "enter the menu: 2\n"
     ]
    },
    {
     "name": "stdout",
     "output_type": "stream",
     "text": [
      "\n",
      "\n"
     ]
    },
    {
     "name": "stdin",
     "output_type": "stream",
     "text": [
      "enter the item you wanna add to the existing stack: Mix veg\n"
     ]
    },
    {
     "name": "stdout",
     "output_type": "stream",
     "text": [
      "\n",
      "python implemenation of stack\n",
      "\n",
      "1.view stack\n",
      "2.push onto stack\n",
      "3.pop out of stack\n",
      "\n",
      "\n"
     ]
    },
    {
     "name": "stdin",
     "output_type": "stream",
     "text": [
      "enter the menu: 3\n"
     ]
    },
    {
     "name": "stdout",
     "output_type": "stream",
     "text": [
      "\n",
      "\n",
      "you just popped out Mix veg\n",
      "\n",
      "python implemenation of stack\n",
      "\n",
      "1.view stack\n",
      "2.push onto stack\n",
      "3.pop out of stack\n",
      "\n",
      "\n"
     ]
    },
    {
     "name": "stdin",
     "output_type": "stream",
     "text": [
      "enter the menu: 1\n"
     ]
    },
    {
     "name": "stdout",
     "output_type": "stream",
     "text": [
      "\n",
      "\n",
      "Naan\n",
      "Chicken\n",
      "\n",
      "python implemenation of stack\n",
      "\n",
      "1.view stack\n",
      "2.push onto stack\n",
      "3.pop out of stack\n",
      "\n",
      "\n"
     ]
    },
    {
     "name": "stdin",
     "output_type": "stream",
     "text": [
      "enter the menu: rrr\n"
     ]
    },
    {
     "ename": "ValueError",
     "evalue": "invalid literal for int() with base 10: 'rrr'",
     "output_type": "error",
     "traceback": [
      "\u001b[1;31m---------------------------------------------------------------------------\u001b[0m",
      "\u001b[1;31mValueError\u001b[0m                                Traceback (most recent call last)",
      "Cell \u001b[1;32mIn[28], line 23\u001b[0m\n\u001b[0;32m     21\u001b[0m \u001b[38;5;28mprint\u001b[39m(\u001b[38;5;124m\"\u001b[39m\u001b[38;5;124m\"\u001b[39m)\n\u001b[0;32m     22\u001b[0m \u001b[38;5;28mprint\u001b[39m(\u001b[38;5;124m\"\u001b[39m\u001b[38;5;124m\"\u001b[39m)\n\u001b[1;32m---> 23\u001b[0m menu_choice\u001b[38;5;241m=\u001b[39m\u001b[38;5;28mint\u001b[39m(\u001b[38;5;28minput\u001b[39m(\u001b[38;5;124m\"\u001b[39m\u001b[38;5;124menter the menu:\u001b[39m\u001b[38;5;124m\"\u001b[39m))\n\u001b[0;32m     24\u001b[0m \u001b[38;5;28mprint\u001b[39m(\u001b[38;5;124m\"\u001b[39m\u001b[38;5;124m\"\u001b[39m)\n\u001b[0;32m     25\u001b[0m \u001b[38;5;28mprint\u001b[39m(\u001b[38;5;124m\"\u001b[39m\u001b[38;5;124m\"\u001b[39m)\n",
      "\u001b[1;31mValueError\u001b[0m: invalid literal for int() with base 10: 'rrr'"
     ]
    }
   ],
   "source": [
    "stack=[]\n",
    "def view():\n",
    "    for x in range(len(stack)):\n",
    "        print(stack[x])\n",
    "def push():\n",
    "    item=input(\"enter the item you wanna add to the existing stack:\")\n",
    "    stack.append(item)\n",
    "def pop():\n",
    "    if len(stack)< 0:\n",
    "        print(\"stack is empty\")\n",
    "    else:\n",
    "        item=stack.pop(-1)\n",
    "        print(\"you just popped out\",item)\n",
    "def exit():\n",
    "    print(\"Done\")\n",
    "while True:\n",
    "    print(\"\")\n",
    "    print(\"python implemenation of stack\")\n",
    "    print(\"\")\n",
    "    print(\"1.view stack\")\n",
    "    print(\"2.push onto stack\")\n",
    "    print(\"3.pop out of stack\")\n",
    "    print(\"4.Exit\")\n",
    "    print(\"\")\n",
    "    print(\"\")\n",
    "    menu_choice=int(input(\"enter the menu:\"))\n",
    "    print(\"\")\n",
    "    print(\"\")\n",
    "    if menu_choice==1:\n",
    "        view()\n",
    "    elif menu_choice==2:\n",
    "        push()\n",
    "    elif menu_choice==3:\n",
    "        pop()\n",
    "    elif menu_choice==4:\n",
    "        exit()"
   ]
  },
  {
   "cell_type": "code",
   "execution_count": null,
   "id": "89a22fca-a9d2-41c5-b469-5b10ac4d52c4",
   "metadata": {},
   "outputs": [
    {
     "name": "stdout",
     "output_type": "stream",
     "text": [
      "\n",
      "python implemenation of stack\n",
      "\n",
      "1.view stack\n",
      "2.push onto stack\n",
      "3.pop out of stack\n",
      "\n",
      "\n"
     ]
    },
    {
     "name": "stdin",
     "output_type": "stream",
     "text": [
      "enter the menu: 2\n"
     ]
    },
    {
     "name": "stdout",
     "output_type": "stream",
     "text": [
      "\n",
      "\n"
     ]
    },
    {
     "name": "stdin",
     "output_type": "stream",
     "text": [
      "enter the item you wanna add to the existing stack: Naan\n"
     ]
    },
    {
     "name": "stdout",
     "output_type": "stream",
     "text": [
      "\n",
      "python implemenation of stack\n",
      "\n",
      "1.view stack\n",
      "2.push onto stack\n",
      "3.pop out of stack\n",
      "\n",
      "\n"
     ]
    },
    {
     "name": "stdin",
     "output_type": "stream",
     "text": [
      "enter the menu: 2\n"
     ]
    },
    {
     "name": "stdout",
     "output_type": "stream",
     "text": [
      "\n",
      "\n"
     ]
    },
    {
     "name": "stdin",
     "output_type": "stream",
     "text": [
      "enter the item you wanna add to the existing stack: Chicken\n"
     ]
    },
    {
     "name": "stdout",
     "output_type": "stream",
     "text": [
      "\n",
      "python implemenation of stack\n",
      "\n",
      "1.view stack\n",
      "2.push onto stack\n",
      "3.pop out of stack\n",
      "\n",
      "\n"
     ]
    },
    {
     "name": "stdin",
     "output_type": "stream",
     "text": [
      "enter the menu: 2\n"
     ]
    },
    {
     "name": "stdout",
     "output_type": "stream",
     "text": [
      "\n",
      "\n"
     ]
    },
    {
     "name": "stdin",
     "output_type": "stream",
     "text": [
      "enter the item you wanna add to the existing stack: Mix veg\n"
     ]
    },
    {
     "name": "stdout",
     "output_type": "stream",
     "text": [
      "\n",
      "python implemenation of stack\n",
      "\n",
      "1.view stack\n",
      "2.push onto stack\n",
      "3.pop out of stack\n",
      "\n",
      "\n"
     ]
    },
    {
     "name": "stdin",
     "output_type": "stream",
     "text": [
      "enter the menu: 3\n"
     ]
    },
    {
     "name": "stdout",
     "output_type": "stream",
     "text": [
      "\n",
      "\n",
      "you just popped out Mix veg\n",
      "\n",
      "python implemenation of stack\n",
      "\n",
      "1.view stack\n",
      "2.push onto stack\n",
      "3.pop out of stack\n",
      "\n",
      "\n"
     ]
    },
    {
     "name": "stdin",
     "output_type": "stream",
     "text": [
      "enter the menu: 1\n"
     ]
    },
    {
     "name": "stdout",
     "output_type": "stream",
     "text": [
      "\n",
      "\n",
      "Naan\n",
      "Chicken\n",
      "\n",
      "python implemenation of stack\n",
      "\n",
      "1.view stack\n",
      "2.push onto stack\n",
      "3.pop out of stack\n",
      "\n",
      "\n"
     ]
    }
   ],
   "source": [
    "stack=[]\n",
    "def view():\n",
    "    for x in range(len(stack)):\n",
    "        print(stack[x])\n",
    "def push():\n",
    "    item=input(\"enter the item you wanna add to the existing stack:\")\n",
    "    stack.append(item)\n",
    "def pop():\n",
    "    if len(stack)< 0:\n",
    "        print(\"stack is empty\")\n",
    "    else:\n",
    "        item=stack.pop(-1)\n",
    "        print(\"you just popped out\",item)\n",
    "def exit():\n",
    "    print(\"Done\")\n",
    "while True:\n",
    "    print(\"\")\n",
    "    print(\"python implemenation of stack\")\n",
    "    print(\"\")\n",
    "    print(\"1.view stack\")\n",
    "    print(\"2.push onto stack\")\n",
    "    print(\"3.pop out of stack\")\n",
    "    print(\"4.Exit\")\n",
    "    print(\"\")\n",
    "    print(\"\")\n",
    "    menu_choice=int(input(\"enter the menu:\"))\n",
    "    print(\"\")\n",
    "    print(\"\")\n",
    "    if menu_choice==1:\n",
    "        view()\n",
    "    elif menu_choice==2:\n",
    "        push()\n",
    "    elif menu_choice==3:\n",
    "        pop()\n",
    "    elif menu_choice==4:\n",
    "        exit()"
   ]
  },
  {
   "cell_type": "code",
   "execution_count": null,
   "id": "c30baff2-8bdd-417c-a8d6-f5d6d46774a6",
   "metadata": {},
   "outputs": [],
   "source": []
  },
  {
   "cell_type": "code",
   "execution_count": 32,
   "id": "d462c87f-1fbd-4285-9030-592be14dc0b3",
   "metadata": {},
   "outputs": [
    {
     "name": "stdout",
     "output_type": "stream",
     "text": [
      "Queue elements: deque([50, 79, 90])\n"
     ]
    }
   ],
   "source": [
    "from collections import deque\n",
    "\n",
    "Q = deque()\n",
    "Q.append(50)\n",
    "Q.append(79)\n",
    "Q.append(90)\n",
    "print(\"Queue elements:\", Q)\n"
   ]
  },
  {
   "cell_type": "code",
   "execution_count": 33,
   "id": "a7399eec-482a-448c-a0b5-37bb02353f9f",
   "metadata": {},
   "outputs": [
    {
     "name": "stdout",
     "output_type": "stream",
     "text": [
      "deleted element:\n",
      "50\n",
      "79\n",
      "90\n",
      "empty\n",
      "deque([])\n"
     ]
    }
   ],
   "source": [
    "x=Q.popleft()\n",
    "y=Q.popleft()\n",
    "z=Q.popleft()\n",
    "print(\"deleted element:\")\n",
    "print(x)\n",
    "print(y)\n",
    "print(z)\n",
    "print(\"empty\")\n",
    "print(Q)"
   ]
  },
  {
   "cell_type": "code",
   "execution_count": null,
   "id": "65f7dc91-207e-4c29-b024-762a335f8fd4",
   "metadata": {},
   "outputs": [],
   "source": [
    "\n"
   ]
  },
  {
   "cell_type": "code",
   "execution_count": null,
   "id": "0cc6fc55-e512-444d-9852-7ce10a6ad891",
   "metadata": {},
   "outputs": [],
   "source": []
  },
  {
   "cell_type": "code",
   "execution_count": 29,
   "id": "bd0fa96e-c537-451e-80c5-28d6bf1e1af2",
   "metadata": {},
   "outputs": [
    {
     "name": "stdout",
     "output_type": "stream",
     "text": [
      "\n",
      "Python Implementation of Queue\n",
      "\n",
      "1. View queue\n",
      "2. Enqueue\n",
      "3. Dequeue\n",
      "4. Exit\n",
      "\n"
     ]
    },
    {
     "name": "stdin",
     "output_type": "stream",
     "text": [
      "Enter your choice:  2\n"
     ]
    },
    {
     "name": "stdout",
     "output_type": "stream",
     "text": [
      "\n"
     ]
    },
    {
     "name": "stdin",
     "output_type": "stream",
     "text": [
      "Enter the item you want to add to the queue:  chicken\n"
     ]
    },
    {
     "name": "stdout",
     "output_type": "stream",
     "text": [
      "'chicken' has been added to the queue\n",
      "\n",
      "Python Implementation of Queue\n",
      "\n",
      "1. View queue\n",
      "2. Enqueue\n",
      "3. Dequeue\n",
      "4. Exit\n",
      "\n"
     ]
    },
    {
     "name": "stdin",
     "output_type": "stream",
     "text": [
      "Enter your choice:  2\n"
     ]
    },
    {
     "name": "stdout",
     "output_type": "stream",
     "text": [
      "\n"
     ]
    },
    {
     "name": "stdin",
     "output_type": "stream",
     "text": [
      "Enter the item you want to add to the queue:  naan\n"
     ]
    },
    {
     "name": "stdout",
     "output_type": "stream",
     "text": [
      "'naan' has been added to the queue\n",
      "\n",
      "Python Implementation of Queue\n",
      "\n",
      "1. View queue\n",
      "2. Enqueue\n",
      "3. Dequeue\n",
      "4. Exit\n",
      "\n"
     ]
    },
    {
     "name": "stdin",
     "output_type": "stream",
     "text": [
      "Enter your choice:  2\n"
     ]
    },
    {
     "name": "stdout",
     "output_type": "stream",
     "text": [
      "\n"
     ]
    },
    {
     "name": "stdin",
     "output_type": "stream",
     "text": [
      "Enter the item you want to add to the queue:  pizzza\n"
     ]
    },
    {
     "name": "stdout",
     "output_type": "stream",
     "text": [
      "'pizzza' has been added to the queue\n",
      "\n",
      "Python Implementation of Queue\n",
      "\n",
      "1. View queue\n",
      "2. Enqueue\n",
      "3. Dequeue\n",
      "4. Exit\n",
      "\n"
     ]
    },
    {
     "name": "stdin",
     "output_type": "stream",
     "text": [
      "Enter your choice:  3\n"
     ]
    },
    {
     "name": "stdout",
     "output_type": "stream",
     "text": [
      "\n",
      "You just dequeued 'chicken'\n",
      "\n",
      "Python Implementation of Queue\n",
      "\n",
      "1. View queue\n",
      "2. Enqueue\n",
      "3. Dequeue\n",
      "4. Exit\n",
      "\n"
     ]
    },
    {
     "name": "stdin",
     "output_type": "stream",
     "text": [
      "Enter your choice:  4\n"
     ]
    },
    {
     "name": "stdout",
     "output_type": "stream",
     "text": [
      "\n",
      "Done\n"
     ]
    }
   ],
   "source": [
    "queue = []\n",
    "\n",
    "def view():\n",
    "    if len(queue) == 0:\n",
    "        print(\"Queue is empty\")\n",
    "    else:\n",
    "        for x in range(len(queue)):\n",
    "            print(queue[x])\n",
    "\n",
    "def enqueue():\n",
    "    item = input(\"Enter the item you want to add to the queue: \")\n",
    "    queue.append(item)\n",
    "    print(f\"'{item}' has been added to the queue\")\n",
    "\n",
    "def dequeue():\n",
    "    if len(queue) == 0:\n",
    "        print(\"Queue is empty\")\n",
    "    else:\n",
    "        item = queue.pop(0)\n",
    "        print(f\"You just dequeued '{item}'\")\n",
    "\n",
    "def exit_program():\n",
    "    print(\"Done\")\n",
    "\n",
    "while True:\n",
    "    print(\"\")\n",
    "    print(\"Python Implementation of Queue\")\n",
    "    print(\"\")\n",
    "    print(\"1. View queue\")\n",
    "    print(\"2. Enqueue\")\n",
    "    print(\"3. Dequeue\")\n",
    "    print(\"4. Exit\")\n",
    "    print(\"\")\n",
    "\n",
    "    menu_choice = int(input(\"Enter your choice: \"))\n",
    "    print(\"\")\n",
    "\n",
    "    if menu_choice == 1:\n",
    "        view()\n",
    "    elif menu_choice == 2:\n",
    "        enqueue()\n",
    "    elif menu_choice == 3:\n",
    "        dequeue()\n",
    "    elif menu_choice == 4:\n",
    "        exit_program()\n",
    "        break\n",
    "    else:\n",
    "        print(\"Invalid choice, please try again.\")\n"
   ]
  },
  {
   "cell_type": "code",
   "execution_count": 35,
   "id": "8f4884a3-cfbb-454f-aa23-e36b1158e52f",
   "metadata": {},
   "outputs": [
    {
     "ename": "TypeError",
     "evalue": "'tuple' object is not callable",
     "output_type": "error",
     "traceback": [
      "\u001b[1;31m---------------------------------------------------------------------------\u001b[0m",
      "\u001b[1;31mTypeError\u001b[0m                                 Traceback (most recent call last)",
      "Cell \u001b[1;32mIn[35], line 3\u001b[0m\n\u001b[0;32m      1\u001b[0m \u001b[38;5;28mlist\u001b[39m\u001b[38;5;241m=\u001b[39m[\u001b[38;5;241m20\u001b[39m,\u001b[38;5;241m20\u001b[39m]\n\u001b[0;32m      2\u001b[0m \u001b[38;5;28mtuple\u001b[39m\u001b[38;5;241m=\u001b[39m(\u001b[38;5;241m80\u001b[39m,\u001b[38;5;241m50\u001b[39m,\u001b[38;5;241m30\u001b[39m)\n\u001b[1;32m----> 3\u001b[0m list1\u001b[38;5;241m=\u001b[39m \u001b[38;5;28mtuple\u001b[39m(\u001b[38;5;28mlist\u001b[39m)\n\u001b[0;32m      4\u001b[0m \u001b[38;5;28mprint\u001b[39m(list1)\n",
      "\u001b[1;31mTypeError\u001b[0m: 'tuple' object is not callable"
     ]
    }
   ],
   "source": [
    "list=[20,20]\n",
    "tuple=(80,50,30)\n",
    "list1= tuple(list)\n",
    "print(list1)"
   ]
  },
  {
   "cell_type": "code",
   "execution_count": 37,
   "id": "6ce78dde-20af-4123-9d8b-055587d00b7d",
   "metadata": {},
   "outputs": [
    {
     "ename": "TypeError",
     "evalue": "'tuple' object is not callable",
     "output_type": "error",
     "traceback": [
      "\u001b[1;31m---------------------------------------------------------------------------\u001b[0m",
      "\u001b[1;31mTypeError\u001b[0m                                 Traceback (most recent call last)",
      "Cell \u001b[1;32mIn[37], line 3\u001b[0m\n\u001b[0;32m      1\u001b[0m \u001b[38;5;28mlist\u001b[39m\u001b[38;5;241m=\u001b[39m[\u001b[38;5;241m20\u001b[39m,\u001b[38;5;241m20\u001b[39m]\n\u001b[0;32m      2\u001b[0m \u001b[38;5;28mtuple\u001b[39m\u001b[38;5;241m=\u001b[39m(\u001b[38;5;241m80\u001b[39m,\u001b[38;5;241m50\u001b[39m,\u001b[38;5;241m30\u001b[39m)\n\u001b[1;32m----> 3\u001b[0m list1\u001b[38;5;241m=\u001b[39m \u001b[38;5;28mtuple\u001b[39m(\u001b[38;5;28mlist\u001b[39m)\n\u001b[0;32m      4\u001b[0m \u001b[38;5;28mprint\u001b[39m(list1)\n",
      "\u001b[1;31mTypeError\u001b[0m: 'tuple' object is not callable"
     ]
    }
   ],
   "source": [
    "\n",
    "list=[20,20]\n",
    "tuple=(80,50,30)\n",
    "list1= tuple(list)\n",
    "print(list1)"
   ]
  },
  {
   "cell_type": "code",
   "execution_count": 38,
   "id": "a4fa7194-46cf-4b43-aba3-1e7726c68332",
   "metadata": {},
   "outputs": [
    {
     "ename": "TypeError",
     "evalue": "can only concatenate list (not \"tuple\") to list",
     "output_type": "error",
     "traceback": [
      "\u001b[1;31m---------------------------------------------------------------------------\u001b[0m",
      "\u001b[1;31mTypeError\u001b[0m                                 Traceback (most recent call last)",
      "Cell \u001b[1;32mIn[38], line 3\u001b[0m\n\u001b[0;32m      1\u001b[0m \u001b[38;5;28mlist\u001b[39m\u001b[38;5;241m=\u001b[39m[\u001b[38;5;241m20\u001b[39m,\u001b[38;5;241m20\u001b[39m]\n\u001b[0;32m      2\u001b[0m \u001b[38;5;28mtuple\u001b[39m\u001b[38;5;241m=\u001b[39m(\u001b[38;5;241m80\u001b[39m,\u001b[38;5;241m50\u001b[39m,\u001b[38;5;241m30\u001b[39m)\n\u001b[1;32m----> 3\u001b[0m totalvalue\u001b[38;5;241m=\u001b[39m\u001b[38;5;28mlist\u001b[39m\u001b[38;5;241m+\u001b[39m\u001b[38;5;28mtuple\u001b[39m\n\u001b[0;32m      4\u001b[0m \u001b[38;5;28mprint\u001b[39m(totakvalue)\n",
      "\u001b[1;31mTypeError\u001b[0m: can only concatenate list (not \"tuple\") to list"
     ]
    }
   ],
   "source": []
  },
  {
   "cell_type": "code",
   "execution_count": 39,
   "id": "f49964eb-d43b-41d3-8fc4-c9997a3f247d",
   "metadata": {},
   "outputs": [
    {
     "ename": "TypeError",
     "evalue": "'tuple' object is not callable",
     "output_type": "error",
     "traceback": [
      "\u001b[1;31m---------------------------------------------------------------------------\u001b[0m",
      "\u001b[1;31mTypeError\u001b[0m                                 Traceback (most recent call last)",
      "Cell \u001b[1;32mIn[39], line 3\u001b[0m\n\u001b[0;32m      1\u001b[0m \u001b[38;5;28mlist\u001b[39m\u001b[38;5;241m=\u001b[39m[\u001b[38;5;241m20\u001b[39m,\u001b[38;5;241m12\u001b[39m]\n\u001b[0;32m      2\u001b[0m val\u001b[38;5;241m=\u001b[39m(\u001b[38;5;241m30\u001b[39m,\u001b[38;5;241m23\u001b[39m)\n\u001b[1;32m----> 3\u001b[0m totalval\u001b[38;5;241m=\u001b[39m \u001b[38;5;28mtuple\u001b[39m(\u001b[38;5;28mlist\u001b[39m)\u001b[38;5;241m+\u001b[39mval\n\u001b[0;32m      4\u001b[0m \u001b[38;5;28mprint\u001b[39m(totalval)\n",
      "\u001b[1;31mTypeError\u001b[0m: 'tuple' object is not callable"
     ]
    }
   ],
   "source": [
    "list=[20,12]\n",
    "val=(30,23)\n",
    "totalval= tuple(list)+val\n",
    "print(totalval)"
   ]
  },
  {
   "cell_type": "code",
   "execution_count": 40,
   "id": "76abb981-16c1-4a8f-8746-24ff3e3829f0",
   "metadata": {},
   "outputs": [
    {
     "ename": "TypeError",
     "evalue": "'tuple' object is not callable",
     "output_type": "error",
     "traceback": [
      "\u001b[1;31m---------------------------------------------------------------------------\u001b[0m",
      "\u001b[1;31mTypeError\u001b[0m                                 Traceback (most recent call last)",
      "Cell \u001b[1;32mIn[40], line 2\u001b[0m\n\u001b[0;32m      1\u001b[0m my_list \u001b[38;5;241m=\u001b[39m [\u001b[38;5;241m1\u001b[39m, \u001b[38;5;241m2\u001b[39m, \u001b[38;5;241m3\u001b[39m, \u001b[38;5;241m4\u001b[39m]\n\u001b[1;32m----> 2\u001b[0m my_tuple \u001b[38;5;241m=\u001b[39m \u001b[38;5;28mtuple\u001b[39m(my_list)\n\u001b[0;32m      3\u001b[0m \u001b[38;5;28mprint\u001b[39m(my_tuple)\n",
      "\u001b[1;31mTypeError\u001b[0m: 'tuple' object is not callable"
     ]
    }
   ],
   "source": [
    "my_list = [1, 2, 3, 4]\n",
    "my_tuple=\n",
    "my_tuple = tuple(my_list)\n",
    "print(my_tuple)  \n"
   ]
  },
  {
   "cell_type": "code",
   "execution_count": 41,
   "id": "8b3a7d8a-feff-4719-8350-95731e82aac8",
   "metadata": {},
   "outputs": [
    {
     "ename": "TypeError",
     "evalue": "'tuple' object is not callable",
     "output_type": "error",
     "traceback": [
      "\u001b[1;31m---------------------------------------------------------------------------\u001b[0m",
      "\u001b[1;31mTypeError\u001b[0m                                 Traceback (most recent call last)",
      "Cell \u001b[1;32mIn[41], line 3\u001b[0m\n\u001b[0;32m      1\u001b[0m my_list \u001b[38;5;241m=\u001b[39m [\u001b[38;5;241m20\u001b[39m, \u001b[38;5;241m20\u001b[39m]\n\u001b[0;32m      2\u001b[0m my_tuple \u001b[38;5;241m=\u001b[39m (\u001b[38;5;241m80\u001b[39m, \u001b[38;5;241m50\u001b[39m, \u001b[38;5;241m30\u001b[39m)\n\u001b[1;32m----> 3\u001b[0m list1 \u001b[38;5;241m=\u001b[39m \u001b[38;5;28mtuple\u001b[39m(my_list)\n\u001b[0;32m      4\u001b[0m \u001b[38;5;28mprint\u001b[39m(list1)\n\u001b[0;32m      6\u001b[0m max_value \u001b[38;5;241m=\u001b[39m \u001b[38;5;28mmax\u001b[39m(list1)\n",
      "\u001b[1;31mTypeError\u001b[0m: 'tuple' object is not callable"
     ]
    }
   ],
   "source": [
    "my_list = [20, 20]\n",
    "my_tuple = (80, 50, 30)\n",
    "list1 = tuple(my_list)\n",
    "print(list1)\n",
    "\n",
    "max_value = max(list1)\n",
    "print(\"Max value:\", max_value)\n",
    "\n"
   ]
  },
  {
   "cell_type": "code",
   "execution_count": 47,
   "id": "2c52d901-df58-40c2-af2e-9a460211c8f1",
   "metadata": {},
   "outputs": [
    {
     "ename": "TypeError",
     "evalue": "'tuple' object is not callable",
     "output_type": "error",
     "traceback": [
      "\u001b[1;31m---------------------------------------------------------------------------\u001b[0m",
      "\u001b[1;31mTypeError\u001b[0m                                 Traceback (most recent call last)",
      "Cell \u001b[1;32mIn[47], line 3\u001b[0m\n\u001b[0;32m      1\u001b[0m my_list \u001b[38;5;241m=\u001b[39m [\u001b[38;5;241m20\u001b[39m, \u001b[38;5;241m20\u001b[39m]\n\u001b[0;32m      2\u001b[0m my_tuple \u001b[38;5;241m=\u001b[39m (\u001b[38;5;241m80\u001b[39m, \u001b[38;5;241m50\u001b[39m, \u001b[38;5;241m30\u001b[39m)\n\u001b[1;32m----> 3\u001b[0m tuple2\u001b[38;5;241m=\u001b[39m\u001b[38;5;28mtuple\u001b[39m(my_list)\n\u001b[0;32m      4\u001b[0m new_tuple\u001b[38;5;241m=\u001b[39mtuple2\u001b[38;5;241m+\u001b[39mmy_tuple\n\u001b[0;32m      5\u001b[0m \u001b[38;5;28mprint\u001b[39m(\u001b[38;5;28mmax\u001b[39m(new_tuple))\n",
      "\u001b[1;31mTypeError\u001b[0m: 'tuple' object is not callable"
     ]
    }
   ],
   "source": [
    "my_list = [20, 20]\n",
    "my_tuple = (80, 50, 30)\n",
    "tuple2=tuple(my_list)\n",
    "new_tuple=tuple2+my_tuple\n",
    "print(max(new_tuple))"
   ]
  },
  {
   "cell_type": "code",
   "execution_count": 50,
   "id": "21f3014e-0294-47a8-9af3-421d1a4a428d",
   "metadata": {},
   "outputs": [
    {
     "ename": "TypeError",
     "evalue": "'tuple' object is not callable",
     "output_type": "error",
     "traceback": [
      "\u001b[1;31m---------------------------------------------------------------------------\u001b[0m",
      "\u001b[1;31mTypeError\u001b[0m                                 Traceback (most recent call last)",
      "Cell \u001b[1;32mIn[50], line 1\u001b[0m\n\u001b[1;32m----> 1\u001b[0m \u001b[38;5;28mtuple\u001b[39m(my_list)\n",
      "\u001b[1;31mTypeError\u001b[0m: 'tuple' object is not callable"
     ]
    }
   ],
   "source": [
    "tuple(my_list)"
   ]
  },
  {
   "cell_type": "code",
   "execution_count": 45,
   "id": "45f95a33-8910-41e8-a664-b05a558cbb9b",
   "metadata": {},
   "outputs": [
    {
     "ename": "NameError",
     "evalue": "name 'List' is not defined",
     "output_type": "error",
     "traceback": [
      "\u001b[1;31m---------------------------------------------------------------------------\u001b[0m",
      "\u001b[1;31mNameError\u001b[0m                                 Traceback (most recent call last)",
      "Cell \u001b[1;32mIn[45], line 3\u001b[0m\n\u001b[0;32m      1\u001b[0m my_list \u001b[38;5;241m=\u001b[39m [\u001b[38;5;241m20\u001b[39m, \u001b[38;5;241m20\u001b[39m]\n\u001b[0;32m      2\u001b[0m my_tuple \u001b[38;5;241m=\u001b[39m (\u001b[38;5;241m80\u001b[39m, \u001b[38;5;241m50\u001b[39m, \u001b[38;5;241m30\u001b[39m)\n\u001b[1;32m----> 3\u001b[0m converte_tuple \u001b[38;5;241m=\u001b[39m List(my_tuple)\n\u001b[0;32m      4\u001b[0m \u001b[38;5;28mprint\u001b[39m(\u001b[38;5;124m\"\u001b[39m\u001b[38;5;124mConverted list to tuple:\u001b[39m\u001b[38;5;124m\"\u001b[39m, converte_tuple)\n\u001b[0;32m      6\u001b[0m max_value \u001b[38;5;241m=\u001b[39m \u001b[38;5;28mmax\u001b[39m(converte_tuple)\n",
      "\u001b[1;31mNameError\u001b[0m: name 'List' is not defined"
     ]
    }
   ],
   "source": [
    "my_list = [20, 20]\n",
    "my_tuple = (80, 50, 30)\n",
    "converte_tuple = List(my_tuple)\n",
    "print(\"Converted list to tuple:\", converte_tuple)\n",
    "\n",
    "max_value = max(converte_tuple)\n",
    "print(\"Max value:\", max_value)\n"
   ]
  },
  {
   "cell_type": "code",
   "execution_count": null,
   "id": "3cb9800f-61ca-4d92-bc27-e7e3cdcf3794",
   "metadata": {},
   "outputs": [],
   "source": []
  }
 ],
 "metadata": {
  "kernelspec": {
   "display_name": "Python 3 (ipykernel)",
   "language": "python",
   "name": "python3"
  },
  "language_info": {
   "codemirror_mode": {
    "name": "ipython",
    "version": 3
   },
   "file_extension": ".py",
   "mimetype": "text/x-python",
   "name": "python",
   "nbconvert_exporter": "python",
   "pygments_lexer": "ipython3",
   "version": "3.11.7"
  }
 },
 "nbformat": 4,
 "nbformat_minor": 5
}
