{
 "cells": [
  {
   "cell_type": "markdown",
   "id": "ccd9fe64-bd0e-4db6-9e96-4b7e901a7af4",
   "metadata": {},
   "source": [
    "# Create a Python list containing the names of five countries. Perform the following operations:"
   ]
  },
  {
   "cell_type": "code",
   "execution_count": 3,
   "id": "5d3b9784-7431-4b47-b4b6-c2111013744e",
   "metadata": {},
   "outputs": [
    {
     "name": "stdout",
     "output_type": "stream",
     "text": [
      "['USA', 'Canada', 'Mexico', 'Brazil', 'Argentina']\n"
     ]
    }
   ],
   "source": [
    "countries = [\"USA\", \"Canada\", \"Mexico\", \"Brazil\", \"Argentina\"]\n",
    "print(countries)"
   ]
  },
  {
   "cell_type": "markdown",
   "id": "7f89b9c2-5538-4f6b-8032-9cf7f4233cf0",
   "metadata": {},
   "source": [
    "# a. Add two more countries to the list."
   ]
  },
  {
   "cell_type": "code",
   "execution_count": 4,
   "id": "e07d8b77-1dee-40c3-a0f6-7e24bf8cdf8b",
   "metadata": {},
   "outputs": [
    {
     "name": "stdout",
     "output_type": "stream",
     "text": [
      "['USA', 'Canada', 'Mexico', 'Brazil', 'Argentina', 'India', 'Pakistan']\n"
     ]
    }
   ],
   "source": [
    "countries.append(\"India\")\n",
    "countries.append(\"Pakistan\")\n",
    "print(countries)\n"
   ]
  },
  {
   "cell_type": "markdown",
   "id": "09507ce3-b3bc-4f06-8ee6-58cdf4ab3f4f",
   "metadata": {},
   "source": [
    "# b. Print the third country in the list."
   ]
  },
  {
   "cell_type": "code",
   "execution_count": 5,
   "id": "d60677e3-7463-4fd6-95dc-a1017cc33c7c",
   "metadata": {},
   "outputs": [
    {
     "name": "stdout",
     "output_type": "stream",
     "text": [
      "Mexico\n"
     ]
    }
   ],
   "source": [
    "print(countries[2])"
   ]
  },
  {
   "cell_type": "markdown",
   "id": "9fa36b8f-9381-4960-91d0-3086630aaa15",
   "metadata": {},
   "source": [
    "# c. Sort the list in alphabetical order."
   ]
  },
  {
   "cell_type": "code",
   "execution_count": 6,
   "id": "3a605032-37c8-4c9d-a513-c1ff38c3bd37",
   "metadata": {},
   "outputs": [
    {
     "name": "stdout",
     "output_type": "stream",
     "text": [
      "None\n"
     ]
    }
   ],
   "source": [
    "print(countries.sort())"
   ]
  },
  {
   "cell_type": "code",
   "execution_count": 7,
   "id": "10f6cbf2-608c-46c1-b61d-5d7dde85b275",
   "metadata": {},
   "outputs": [
    {
     "name": "stdout",
     "output_type": "stream",
     "text": [
      "['Argentina', 'Brazil', 'Canada', 'India', 'Mexico', 'Pakistan', 'USA']\n"
     ]
    }
   ],
   "source": [
    "countries.sort()\n",
    "print(countries)"
   ]
  },
  {
   "cell_type": "markdown",
   "id": "4f06fb4d-449b-4c4f-8230-a00723e89b97",
   "metadata": {},
   "source": [
    "# d. Check if a country \"India\" is present in the list."
   ]
  },
  {
   "cell_type": "code",
   "execution_count": 8,
   "id": "7199fd91-b861-419c-8922-9bc7277ff6c6",
   "metadata": {},
   "outputs": [
    {
     "name": "stdout",
     "output_type": "stream",
     "text": [
      "India is present\n"
     ]
    }
   ],
   "source": [
    "if \"India\" in countries:\n",
    "    print(\"India is present\")\n",
    "else:\n",
    "    print(\"India is not present\")"
   ]
  },
  {
   "cell_type": "markdown",
   "id": "903ec294-5353-4c86-9f8b-e75f251c379d",
   "metadata": {},
   "source": [
    "# Create a tuple with five elements, each representing the price of a product. Perform the following operations:"
   ]
  },
  {
   "cell_type": "code",
   "execution_count": 9,
   "id": "acd8c25a-e61f-48c4-9fb3-4d010e4e9f21",
   "metadata": {},
   "outputs": [
    {
     "name": "stdout",
     "output_type": "stream",
     "text": [
      "(123, 234, 500, 700, 5000)\n"
     ]
    }
   ],
   "source": [
    "tuple= (123,234,500,700,5000)\n",
    "print(tuple)"
   ]
  },
  {
   "cell_type": "markdown",
   "id": "2941a9ac-6738-4a7d-8a97-0d28f42789cc",
   "metadata": {},
   "source": [
    "# a. Find the maximum and minimum price from the tuple."
   ]
  },
  {
   "cell_type": "code",
   "execution_count": 10,
   "id": "f943aed8-0707-46d3-80f2-e0719e569246",
   "metadata": {},
   "outputs": [
    {
     "ename": "AttributeError",
     "evalue": "'tuple' object has no attribute 'min'",
     "output_type": "error",
     "traceback": [
      "\u001b[1;31m---------------------------------------------------------------------------\u001b[0m",
      "\u001b[1;31mAttributeError\u001b[0m                            Traceback (most recent call last)",
      "Cell \u001b[1;32mIn[10], line 1\u001b[0m\n\u001b[1;32m----> 1\u001b[0m \u001b[38;5;28mprint\u001b[39m(\u001b[38;5;28mtuple\u001b[39m\u001b[38;5;241m.\u001b[39mmin())\n",
      "\u001b[1;31mAttributeError\u001b[0m: 'tuple' object has no attribute 'min'"
     ]
    }
   ],
   "source": [
    "print(tuple.min())\n"
   ]
  },
  {
   "cell_type": "code",
   "execution_count": 11,
   "id": "7334fb82-17d1-49f1-af19-fd1216168c3b",
   "metadata": {},
   "outputs": [
    {
     "ename": "AttributeError",
     "evalue": "'tuple' object has no attribute 'minimum'",
     "output_type": "error",
     "traceback": [
      "\u001b[1;31m---------------------------------------------------------------------------\u001b[0m",
      "\u001b[1;31mAttributeError\u001b[0m                            Traceback (most recent call last)",
      "Cell \u001b[1;32mIn[11], line 1\u001b[0m\n\u001b[1;32m----> 1\u001b[0m \u001b[38;5;28mprint\u001b[39m(\u001b[38;5;28mtuple\u001b[39m\u001b[38;5;241m.\u001b[39mminimum)\n",
      "\u001b[1;31mAttributeError\u001b[0m: 'tuple' object has no attribute 'minimum'"
     ]
    }
   ],
   "source": [
    "print(tuple.minimum)"
   ]
  },
  {
   "cell_type": "code",
   "execution_count": 12,
   "id": "9b16abd4-7419-40fb-8843-9968c614a1dd",
   "metadata": {},
   "outputs": [
    {
     "name": "stdout",
     "output_type": "stream",
     "text": [
      "5000\n",
      "123\n"
     ]
    }
   ],
   "source": [
    "print(max(tuple))\n",
    "print(min(tuple))"
   ]
  },
  {
   "cell_type": "markdown",
   "id": "cea06cdb-871e-464f-9016-db52c2097bb1",
   "metadata": {},
   "source": [
    "# b. Calculate the total cost of all products."
   ]
  },
  {
   "cell_type": "code",
   "execution_count": 13,
   "id": "f6c572e1-3272-4e49-8975-d5d6d795eb5f",
   "metadata": {},
   "outputs": [
    {
     "name": "stdout",
     "output_type": "stream",
     "text": [
      "6557\n"
     ]
    }
   ],
   "source": [
    "print(sum(tuple))"
   ]
  },
  {
   "cell_type": "code",
   "execution_count": 14,
   "id": "56c2acf4-bb25-4127-a0fd-15c94c5cc5ab",
   "metadata": {},
   "outputs": [
    {
     "ename": "NameError",
     "evalue": "name 'prices' is not defined",
     "output_type": "error",
     "traceback": [
      "\u001b[1;31m---------------------------------------------------------------------------\u001b[0m",
      "\u001b[1;31mNameError\u001b[0m                                 Traceback (most recent call last)",
      "Cell \u001b[1;32mIn[14], line 1\u001b[0m\n\u001b[1;32m----> 1\u001b[0m prices_list \u001b[38;5;241m=\u001b[39m \u001b[38;5;28mlist\u001b[39m(prices)\n\u001b[0;32m      2\u001b[0m \u001b[38;5;28mprint\u001b[39m(price_list)\n",
      "\u001b[1;31mNameError\u001b[0m: name 'prices' is not defined"
     ]
    }
   ],
   "source": [
    "prices_list = list(prices)\n",
    "print(price_list)"
   ]
  },
  {
   "cell_type": "markdown",
   "id": "04ac8a00-d6d8-4c18-9093-af38128254b7",
   "metadata": {},
   "source": [
    "# c. Convert the tuple to a list and add a new product with its price."
   ]
  },
  {
   "cell_type": "code",
   "execution_count": 15,
   "id": "d8664b96-bd3f-407f-94db-09d37eb63f26",
   "metadata": {},
   "outputs": [
    {
     "name": "stdout",
     "output_type": "stream",
     "text": [
      "[123, 234, 500, 700, 5000]\n"
     ]
    }
   ],
   "source": [
    "prices_list = list(tuple)\n",
    "print(prices_list)\n"
   ]
  },
  {
   "cell_type": "code",
   "execution_count": 16,
   "id": "031e9f52-f3e9-442a-b07e-12e6b3304c65",
   "metadata": {},
   "outputs": [
    {
     "name": "stdout",
     "output_type": "stream",
     "text": [
      "None\n"
     ]
    }
   ],
   "source": [
    "newprice=10,000\n",
    "print(prices_list.append(newprice))"
   ]
  },
  {
   "cell_type": "code",
   "execution_count": 17,
   "id": "1b06a3e3-1684-4549-be10-abd579ac1f77",
   "metadata": {},
   "outputs": [
    {
     "ename": "AttributeError",
     "evalue": "'tuple' object has no attribute 'append'",
     "output_type": "error",
     "traceback": [
      "\u001b[1;31m---------------------------------------------------------------------------\u001b[0m",
      "\u001b[1;31mAttributeError\u001b[0m                            Traceback (most recent call last)",
      "Cell \u001b[1;32mIn[17], line 2\u001b[0m\n\u001b[0;32m      1\u001b[0m newprice\u001b[38;5;241m=\u001b[39m\u001b[38;5;241m10\u001b[39m,\u001b[38;5;241m000\u001b[39m\n\u001b[1;32m----> 2\u001b[0m \u001b[38;5;28mprint\u001b[39m(\u001b[38;5;28mtuple\u001b[39m\u001b[38;5;241m.\u001b[39mappend(newprice))\n",
      "\u001b[1;31mAttributeError\u001b[0m: 'tuple' object has no attribute 'append'"
     ]
    }
   ],
   "source": [
    "newprice=10,000\n",
    "print(tuple.append(newprice))"
   ]
  },
  {
   "cell_type": "code",
   "execution_count": 18,
   "id": "c8e97588-0367-4ccb-b527-ec282448289f",
   "metadata": {},
   "outputs": [
    {
     "name": "stdout",
     "output_type": "stream",
     "text": [
      "[123, 234, 500, 700, 5000]\n"
     ]
    }
   ],
   "source": [
    "prices_list = list(tuple)\n",
    "print(prices_list)"
   ]
  },
  {
   "cell_type": "code",
   "execution_count": 20,
   "id": "c2f8526c-4ae9-4055-b4a9-ddda6fe20f01",
   "metadata": {},
   "outputs": [
    {
     "name": "stdout",
     "output_type": "stream",
     "text": [
      "[123, 234, 500, 700, 5000, 10000, 10000]\n"
     ]
    }
   ],
   "source": [
    "newprice=10000\n",
    "prices_list.append(newprice)\n",
    "print(prices_list)"
   ]
  },
  {
   "cell_type": "markdown",
   "id": "c96e495f-dea4-45f5-823e-c49479560754",
   "metadata": {},
   "source": [
    "# d. Calculate the average price of the products."
   ]
  },
  {
   "cell_type": "code",
   "execution_count": 21,
   "id": "fccb6e8f-0741-493e-a413-b75decb17cca",
   "metadata": {},
   "outputs": [
    {
     "ename": "NameError",
     "evalue": "name 'avg' is not defined",
     "output_type": "error",
     "traceback": [
      "\u001b[1;31m---------------------------------------------------------------------------\u001b[0m",
      "\u001b[1;31mNameError\u001b[0m                                 Traceback (most recent call last)",
      "Cell \u001b[1;32mIn[21], line 1\u001b[0m\n\u001b[1;32m----> 1\u001b[0m \u001b[38;5;28mprint\u001b[39m(avg(prices_list))\n",
      "\u001b[1;31mNameError\u001b[0m: name 'avg' is not defined"
     ]
    }
   ],
   "source": [
    "print(avg(prices_list))"
   ]
  },
  {
   "cell_type": "code",
   "execution_count": 22,
   "id": "7fda2295-43f3-44fd-91c2-d8be1bda82c7",
   "metadata": {},
   "outputs": [
    {
     "ename": "SyntaxError",
     "evalue": "'(' was never closed (4182108303.py, line 1)",
     "output_type": "error",
     "traceback": [
      "\u001b[1;36m  Cell \u001b[1;32mIn[22], line 1\u001b[1;36m\u001b[0m\n\u001b[1;33m    average= sum(prices_list/len(prices_list)\u001b[0m\n\u001b[1;37m                ^\u001b[0m\n\u001b[1;31mSyntaxError\u001b[0m\u001b[1;31m:\u001b[0m '(' was never closed\n"
     ]
    }
   ],
   "source": [
    "average= sum(prices_list/len(prices_list)\n",
    "             print(average)"
   ]
  },
  {
   "cell_type": "code",
   "execution_count": 23,
   "id": "38e4f38d-df04-4004-a268-2f382338497c",
   "metadata": {},
   "outputs": [
    {
     "name": "stdout",
     "output_type": "stream",
     "text": [
      "3793.8571428571427\n"
     ]
    }
   ],
   "source": [
    "average= sum(prices_list) / len(prices_list)\n",
    "print(average)"
   ]
  },
  {
   "cell_type": "markdown",
   "id": "d3a98382-d472-4d78-9c48-67d95c32d8d8",
   "metadata": {},
   "source": [
    "# Experiment 2: Dictionaries Create a dictionary that represents the population of five cities. Perform the following operations:\n"
   ]
  },
  {
   "cell_type": "code",
   "execution_count": 24,
   "id": "7730a290-fd51-4416-8a58-8db9b8def0aa",
   "metadata": {},
   "outputs": [
    {
     "name": "stdout",
     "output_type": "stream",
     "text": [
      "{'Delhi': 20000, 'Odisha': 30000, 'Mumbai': 50000, 'Kerla': 80000, 'Jammu': 2000}\n"
     ]
    }
   ],
   "source": [
    "dict= {\"Delhi\":20000,\"Odisha\": 30000,\"Mumbai\": 50000,\"Kerla\":80000,\"Jammu\": 2000}\n",
    "print(dict)"
   ]
  },
  {
   "cell_type": "markdown",
   "id": "f12897f5-204a-4f95-8c27-dba81944b64d",
   "metadata": {},
   "source": [
    "# a. Add two more cities and their populations to the dictionary."
   ]
  },
  {
   "cell_type": "code",
   "execution_count": 25,
   "id": "0eba67e5-0cce-4271-8b58-e8378027e4ea",
   "metadata": {},
   "outputs": [
    {
     "name": "stdout",
     "output_type": "stream",
     "text": [
      "{'Delhi': 20000, 'Odisha': 30000, 'Mumbai': 50000, 'Kerla': 80000, 'Jammu': 2000, 'West Bengal': 1000, 'Goa': 5000}\n"
     ]
    }
   ],
   "source": [
    "dict[\"West Bengal\"]=1000\n",
    "dict[\"Goa\"]=5000\n",
    "print(dict)"
   ]
  },
  {
   "cell_type": "markdown",
   "id": "bf0e776b-10c3-4d00-b986-67d5cfd5a03c",
   "metadata": {},
   "source": [
    "# b. Find the city with the highest population."
   ]
  },
  {
   "cell_type": "code",
   "execution_count": 26,
   "id": "a7c8c805-13ad-4e81-8abc-fba62ce3f335",
   "metadata": {},
   "outputs": [
    {
     "name": "stdout",
     "output_type": "stream",
     "text": [
      "The country with the maximum population is Kerla with a population of 80000.\n"
     ]
    }
   ],
   "source": [
    "max_population_country = max(dict, key=dict.get)\n",
    "print(f\"The country with the maximum population is {max_population_country} with a population of {dict[max_population_country]}.\")"
   ]
  },
  {
   "cell_type": "markdown",
   "id": "617c442f-21ff-46ea-bcab-63bc9b86691f",
   "metadata": {},
   "source": [
    "# c. Check if a city \"London\" is present in the dictionary."
   ]
  },
  {
   "cell_type": "code",
   "execution_count": 27,
   "id": "35b6cad1-c307-451f-a6a7-3fb8f7a8780b",
   "metadata": {},
   "outputs": [
    {
     "name": "stdout",
     "output_type": "stream",
     "text": [
      "London is not prsent\n"
     ]
    }
   ],
   "source": [
    "city_tocheck=\"London\"\n",
    "is_present = city_tocheck in dict\n",
    "\n",
    "if is_present:\n",
    "    print(f\"{city_tocheck} is present\")\n",
    "else:\n",
    "    print(f\"{city_tocheck} is not prsent\")\n",
    "    \n",
    "    "
   ]
  },
  {
   "cell_type": "markdown",
   "id": "a842df08-34eb-4616-b0ff-979170922c73",
   "metadata": {},
   "source": [
    "# d. Remove a city and its population from the dictionary."
   ]
  },
  {
   "cell_type": "code",
   "execution_count": 28,
   "id": "5e9bee4d-8aa1-4b50-9beb-9c8dbe54d47b",
   "metadata": {},
   "outputs": [
    {
     "name": "stdout",
     "output_type": "stream",
     "text": [
      "updated dict after removing Goa {'Delhi': 20000, 'Odisha': 30000, 'Mumbai': 50000, 'Kerla': 80000, 'Jammu': 2000, 'West Bengal': 1000}\n"
     ]
    }
   ],
   "source": [
    "remove_item=\"Goa\"\n",
    "del dict[remove_item]\n",
    "print(\"updated dict after removing Goa\" , dict)"
   ]
  },
  {
   "cell_type": "code",
   "execution_count": null,
   "id": "39860f1a-2401-4d42-96f0-33096790a63d",
   "metadata": {},
   "outputs": [],
   "source": []
  }
 ],
 "metadata": {
  "kernelspec": {
   "display_name": "Python 3 (ipykernel)",
   "language": "python",
   "name": "python3"
  },
  "language_info": {
   "codemirror_mode": {
    "name": "ipython",
    "version": 3
   },
   "file_extension": ".py",
   "mimetype": "text/x-python",
   "name": "python",
   "nbconvert_exporter": "python",
   "pygments_lexer": "ipython3",
   "version": "3.11.7"
  }
 },
 "nbformat": 4,
 "nbformat_minor": 5
}
