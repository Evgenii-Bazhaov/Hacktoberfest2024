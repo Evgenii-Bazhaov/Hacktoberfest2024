{
 "cells": [
  {
   "cell_type": "markdown",
   "id": "c38dfa7b-2c65-40eb-9096-adc7253b3cf0",
   "metadata": {},
   "source": [
    "Day-5\n"
   ]
  },
  {
   "cell_type": "markdown",
   "id": "c9794a36-e944-4793-b6cb-d388c8ce9829",
   "metadata": {},
   "source": [
    "1.\tImplement Linear Regression and calculate sum of residual error on the following datasets\n",
    "•\tY=4X +13+s(0,1)\n",
    "•\tY=10sin(X1)+15sin(X2)+s(0,1)\n",
    "•\tBoston Housing Rate Dataset\n",
    "\n",
    "         Where X is random variable with values [0,50] and s(0,1) Gaussian white noise of zero mean and unit variance.\n",
    "  \t\n",
    "Consider the following instructions\n",
    "1.\tImplement both the analytic matrix formulation and gradient descent on LMS (Least Mean square) loss formulation to compute the weight matrix and compare the results.\n",
    "2.\tFor gradient Descent implement full batch, stochastic and mini batch stochastic formulations and compare the results. \n",
    "3.\tConsider the different values for learning rate in gradient descent and study their effect on convergence and thus implement decaying learning rate system.\n",
    "4.\tPlot the data points and the computed regression line for dataset-1and dataset-2.\n",
    "The program can be written Python programming language from scratch. No machine learning/data science/statistics package/library should be used.\n"
   ]
  },
  {
   "cell_type": "code",
   "execution_count": 3,
   "id": "b2c7982c-58f4-4d15-ac46-d921748f40ec",
   "metadata": {},
   "outputs": [
    {
     "name": "stdout",
     "output_type": "stream",
     "text": [
      "x is:  5  ====>   y is:  32.62898613541815\n",
      "x is:  46  ====>   y is:  196.9318035583839\n",
      "x is:  34  ====>   y is:  147.49736321178355\n",
      "x is:  31  ====>   y is:  137.46580905049154\n",
      "x is:  15  ====>   y is:  72.18750960414242\n",
      "x is:  27  ====>   y is:  122.69406886416743\n",
      "x is:  38  ====>   y is:  165.9473627107859\n",
      "x is:  23  ====>   y is:  103.31998206078751\n",
      "x is:  39  ====>   y is:  168.84593442448428\n",
      "x is:  2  ====>   y is:  21.28405590215262\n",
      "x is:  20  ====>   y is:  94.09089768884012\n",
      "x is:  19  ====>   y is:  90.65621576151165\n",
      "x is:  0  ====>   y is:  11.561094133792455\n",
      "x is:  46  ====>   y is:  198.34497926719095\n",
      "x is:  30  ====>   y is:  134.72924882616888\n",
      "x is:  48  ====>   y is:  204.53295027756204\n",
      "x is:  18  ====>   y is:  84.67399052590639\n",
      "x is:  41  ====>   y is:  177.9078737417719\n",
      "x is:  40  ====>   y is:  172.95773544534381\n",
      "x is:  3  ====>   y is:  26.019339300838887\n",
      "x is:  28  ====>   y is:  126.85174803863391\n",
      "x is:  50  ====>   y is:  213.09310508982938\n",
      "x is:  4  ====>   y is:  27.971050252025705\n",
      "x is:  44  ====>   y is:  190.30562903327572\n",
      "x is:  33  ====>   y is:  144.9549440073175\n",
      "x is:  30  ====>   y is:  134.68498615963276\n",
      "x is:  27  ====>   y is:  121.91173089114767\n",
      "x is:  32  ====>   y is:  139.64970820856783\n",
      "x is:  11  ====>   y is:  57.01633394690959\n",
      "x is:  49  ====>   y is:  209.92780459650956\n",
      "x is:  27  ====>   y is:  119.20419361774323\n",
      "x is:  10  ====>   y is:  53.83430144450621\n",
      "x is:  22  ====>   y is:  100.85601938050914\n",
      "x is:  36  ====>   y is:  156.22221967150188\n",
      "x is:  6  ====>   y is:  37.32227416382447\n",
      "x is:  48  ====>   y is:  204.8429297732094\n",
      "x is:  47  ====>   y is:  199.48783551131206\n",
      "x is:  9  ====>   y is:  47.05120789414577\n",
      "x is:  16  ====>   y is:  76.68904866306532\n",
      "x is:  30  ====>   y is:  133.0277369351491\n",
      "x is:  8  ====>   y is:  44.98062921490583\n",
      "x is:  30  ====>   y is:  135.6084991208349\n",
      "x is:  27  ====>   y is:  121.83814391722926\n",
      "x is:  21  ====>   y is:  96.95794201846935\n",
      "x is:  49  ====>   y is:  209.9251992050627\n",
      "x is:  16  ====>   y is:  77.55005769383799\n",
      "x is:  8  ====>   y is:  43.91746414495546\n",
      "x is:  27  ====>   y is:  121.40744534309131\n",
      "x is:  21  ====>   y is:  97.81931019580246\n",
      "x is:  5  ====>   y is:  31.34215667635439\n"
     ]
    }
   ],
   "source": [
    "import random\n",
    "X, Y = [], []\n",
    "for i in range(50):\n",
    "    x = random.randint(0, 50)\n",
    "    s = random.gauss(0, 1)\n",
    "    y = (4*x) + 13 + s\n",
    "    X.append(x)\n",
    "    Y.append(y)\n",
    "\n",
    "for inp, out in zip(X, Y):\n",
    "    print(\"x is: \", inp,\" ====>  \", \"y is: \", out)"
   ]
  },
  {
   "cell_type": "code",
   "execution_count": null,
   "id": "448552b9-4331-47cb-83d7-421fbdf9b168",
   "metadata": {},
   "outputs": [],
   "source": [
    "Y=10sin(X1)+15sin(X2)+s(0,1)\n"
   ]
  },
  {
   "cell_type": "code",
   "execution_count": 7,
   "id": "7cc2da4c-bbff-4875-bba4-bc0cffb9d267",
   "metadata": {},
   "outputs": [
    {
     "name": "stdout",
     "output_type": "stream",
     "text": [
      "x is:  17  ====>   y is:  -8.502702615229905\n",
      "x is:  18  ====>   y is:  -13.189312678606708\n",
      "x is:  19  ====>   y is:  5.8778220281853955\n",
      "x is:  47  ====>   y is:  -5.825154389409792\n",
      "x is:  34  ====>   y is:  1.5335863315071134\n",
      "x is:  41  ====>   y is:  -7.288813691977852\n",
      "x is:  21  ====>   y is:  22.770789547629644\n",
      "x is:  8  ====>   y is:  23.582899445097823\n",
      "x is:  37  ====>   y is:  -16.654058139391843\n",
      "x is:  2  ====>   y is:  -2.0793739659635144\n",
      "x is:  43  ====>   y is:  6.684968040616761\n",
      "x is:  43  ====>   y is:  7.298725932194408\n",
      "x is:  13  ====>   y is:  -4.733206986785499\n",
      "x is:  7  ====>   y is:  -8.848751674037876\n",
      "x is:  40  ====>   y is:  -3.836016049505465\n",
      "x is:  15  ====>   y is:  -9.55715627094531\n",
      "x is:  43  ====>   y is:  5.130835111685858\n",
      "x is:  5  ====>   y is:  -10.99248569680815\n",
      "x is:  48  ====>   y is:  -21.90900774380283\n",
      "x is:  46  ====>   y is:  -5.9139097670432665\n",
      "x is:  45  ====>   y is:  23.89381562636344\n",
      "x is:  31  ====>   y is:  -10.722733807242832\n",
      "x is:  16  ====>   y is:  -18.406252787456673\n",
      "x is:  26  ====>   y is:  -1.3747676901875427\n",
      "x is:  10  ====>   y is:  -13.670351933176333\n",
      "x is:  34  ====>   y is:  2.210384629267355\n",
      "x is:  26  ====>   y is:  -0.08984193064059379\n",
      "x is:  3  ====>   y is:  8.54673125977943\n",
      "x is:  14  ====>   y is:  24.690037315549272\n",
      "x is:  42  ====>   y is:  -23.571040652501512\n",
      "x is:  45  ====>   y is:  23.58262057192568\n",
      "x is:  7  ====>   y is:  -7.562936036669871\n",
      "x is:  50  ====>   y is:  -13.132446404581016\n",
      "x is:  31  ====>   y is:  -9.366239679716543\n",
      "x is:  6  ====>   y is:  -18.99497654745464\n",
      "x is:  41  ====>   y is:  -4.587207275936645\n",
      "x is:  22  ====>   y is:  3.2414359632406113\n",
      "x is:  19  ====>   y is:  7.50983091694305\n",
      "x is:  23  ====>   y is:  5.512647814892881\n",
      "x is:  41  ====>   y is:  -5.515820320861505\n",
      "x is:  36  ====>   y is:  3.402498584181527\n",
      "x is:  19  ====>   y is:  5.153135025479617\n",
      "x is:  47  ====>   y is:  -4.940318038404992\n",
      "x is:  47  ====>   y is:  -5.9986492681876005\n",
      "x is:  4  ====>   y is:  -10.188903218246798\n",
      "x is:  31  ====>   y is:  -9.679962137563605\n",
      "x is:  4  ====>   y is:  -10.76345181426153\n",
      "x is:  42  ====>   y is:  -23.603351712234236\n",
      "x is:  22  ====>   y is:  3.9801608941772186\n",
      "x is:  45  ====>   y is:  22.217314082464576\n"
     ]
    }
   ],
   "source": [
    "import random\n",
    "import math\n",
    "X, Y = [], []\n",
    "for i in range(50):\n",
    "    x = random.randint(0, 50)\n",
    "    s = random.gauss(0, 1)\n",
    "    y = 10*math.sin(x)+15*math.sin(x**2)+s\n",
    "    X.append(x)\n",
    "    Y.append(y)\n",
    "\n",
    "for inp, out in zip(X, Y):\n",
    "    print(\"x is: \", inp,\" ====>  \", \"y is: \", out)"
   ]
  },
  {
   "cell_type": "code",
   "execution_count": null,
   "id": "752c6f89-5624-4961-8160-22e920dda0bc",
   "metadata": {},
   "outputs": [],
   "source": [
    "import random\n",
    "import math\n",
    "X, Y = [], []\n",
    "for i in range(50):\n",
    "    x = random.randint(0, 50)  \n",
    "    s = random.gauss(0, 1)    \n",
    "    y = 10 * math.sin(x) + 15 * math.sin(x**2) + s  \n",
    "    X.append(x)\n",
    "    Y.append(y)\n",
    "\n",
    "mean_x = sum(X) / len(X)\n",
    "mean_y = sum(Y) / len(Y)\n",
    "              \n",
    "numerator = sum((X[i] - mean_x) * (Y[i] - mean_y) for i in range(len(X)))\n",
    "denominator = sum((X[i] - mean_x) ** 2 for i in range(len(X)))\n",
    "slope = numerator / denominator\n",
    "intercept = mean_y - slope * mean_x\n",
    "\n",
    "Y_pred = [slope * x + intercept for x in X]\n",
    "\n",
    "\n",
    "mse = sum((Y[i] - Y_pred[i]) ** 2 for i in range(len(Y))) / len(Y)\n",
    "print(\"Slope:\", slope)\n",
    "print(\"Intercept:\", intercept)\n",
    "print(\"Mean Squared Error (MSE):\", mse)"
   ]
  },
  {
   "cell_type": "code",
   "execution_count": 3,
   "id": "d4f39ad0-c93b-415a-a7c4-cfea2538c344",
   "metadata": {},
   "outputs": [
    {
     "ename": "SyntaxError",
     "evalue": "'return' outside function (3802187108.py, line 9)",
     "output_type": "error",
     "traceback": [
      "\u001b[1;36m  Cell \u001b[1;32mIn[3], line 9\u001b[1;36m\u001b[0m\n\u001b[1;33m    return X,Y\u001b[0m\n\u001b[1;37m    ^\u001b[0m\n\u001b[1;31mSyntaxError\u001b[0m\u001b[1;31m:\u001b[0m 'return' outside function\n"
     ]
    }
   ],
   "source": [
    "import random\n",
    "X, Y = [], []\n",
    "for i in range(50):\n",
    "    x = random.randint(0, 50)\n",
    "    s = random.gauss(0, 1)\n",
    "    y = (4*x) + 13 + s\n",
    "    X.append(x)\n",
    "    Y.append(y)\n",
    "return X,Y\n",
    "X,Y =  generate_dataset(50)\n",
    "print(Y)\n",
    "\n",
    "epochs = 150\n",
    "w0, w1 = 4, 2\n",
    "lambdaa= 0.001  \n",
    "\n",
    "for ep in range(epochs):\n",
    "    print(\"Epoch: \", ep, \"w0: \", w0, \"w1: \", w1)\n",
    "    for x, y in zip(X1, Y1):\n",
    "        y_pred = w0 + w1 * x\n",
    "        error = 0.5 * (y - y_pred) ** 2\n",
    "        delta_w0 = -(y - y_pred)\n",
    "        delta_w1 = -x * (y - y_pred)\n",
    "        w0 = w0 - lambdaa*delta_w0\n",
    "        w1 = w1 - lambdaa*delta_w1\n",
    "\n",
    "print(w0, w1)\n",
    "\n",
    "Y_Pred = []\n",
    "for i in range(len(X1)):\n",
    "    y_pred = w0 + (w1 * X1[i])\n",
    "    Y_Pred.append(y_pred)\n",
    "\n",
    "plt.scatter(X, Y, color = 'green')\n",
    "plt.scatter(X, Y_Pred, color='red')\n",
    "plt.show()\n"
   ]
  },
  {
   "cell_type": "code",
   "execution_count": null,
   "id": "5e8456b7-cc09-44de-94e2-ff4de799ad88",
   "metadata": {},
   "outputs": [],
   "source": []
  },
  {
   "cell_type": "code",
   "execution_count": null,
   "id": "a3a46816-b605-4c9e-856e-f8cbbce7f393",
   "metadata": {},
   "outputs": [],
   "source": []
  },
  {
   "cell_type": "code",
   "execution_count": null,
   "id": "16c9dfa3-7176-4c09-a6e8-702c3df76118",
   "metadata": {},
   "outputs": [],
   "source": []
  },
  {
   "cell_type": "code",
   "execution_count": null,
   "id": "dc8bf224-42a5-4560-8d81-d80e4de17f4d",
   "metadata": {},
   "outputs": [],
   "source": []
  },
  {
   "cell_type": "code",
   "execution_count": null,
   "id": "81ec4709-b58c-478c-83a6-eee873b624aa",
   "metadata": {},
   "outputs": [],
   "source": []
  },
  {
   "cell_type": "code",
   "execution_count": null,
   "id": "17fcd652-c354-4fd0-8f11-e3bbe4eba8ef",
   "metadata": {},
   "outputs": [],
   "source": []
  },
  {
   "cell_type": "code",
   "execution_count": null,
   "id": "05a75d82-bf59-4b5d-99c3-550f2ab508db",
   "metadata": {},
   "outputs": [],
   "source": []
  },
  {
   "cell_type": "code",
   "execution_count": null,
   "id": "9b8f473a-8526-4a33-a0a6-3c12a95cff19",
   "metadata": {},
   "outputs": [],
   "source": []
  },
  {
   "cell_type": "code",
   "execution_count": null,
   "id": "7da714de-640a-498d-a5db-1f26657c9f42",
   "metadata": {},
   "outputs": [],
   "source": []
  },
  {
   "cell_type": "code",
   "execution_count": null,
   "id": "39fe1e09-6734-4ea9-9e25-ee04c7733fdd",
   "metadata": {},
   "outputs": [],
   "source": []
  },
  {
   "cell_type": "code",
   "execution_count": null,
   "id": "15410907-702c-4379-aab8-94969bb2d267",
   "metadata": {},
   "outputs": [],
   "source": []
  },
  {
   "cell_type": "code",
   "execution_count": null,
   "id": "174996b0-6906-4c43-a5fb-105eacd4bcda",
   "metadata": {},
   "outputs": [],
   "source": []
  },
  {
   "cell_type": "code",
   "execution_count": null,
   "id": "bf13ca50-9064-43bf-8ffe-4021a6b2f4c2",
   "metadata": {},
   "outputs": [],
   "source": []
  },
  {
   "cell_type": "code",
   "execution_count": null,
   "id": "5f58fb23-87f0-445b-abb8-50433caa7c69",
   "metadata": {},
   "outputs": [],
   "source": []
  },
  {
   "cell_type": "code",
   "execution_count": null,
   "id": "bb64dcf5-a943-48df-86ad-6da03f307bfb",
   "metadata": {},
   "outputs": [],
   "source": []
  },
  {
   "cell_type": "code",
   "execution_count": null,
   "id": "2bdd4e8a-7b2c-4081-b44e-3ece528c3539",
   "metadata": {},
   "outputs": [],
   "source": []
  },
  {
   "cell_type": "code",
   "execution_count": null,
   "id": "b9f67283-9c5f-45d0-866d-464ee726b3cd",
   "metadata": {},
   "outputs": [],
   "source": []
  }
 ],
 "metadata": {
  "kernelspec": {
   "display_name": "Python 3 (ipykernel)",
   "language": "python",
   "name": "python3"
  },
  "language_info": {
   "codemirror_mode": {
    "name": "ipython",
    "version": 3
   },
   "file_extension": ".py",
   "mimetype": "text/x-python",
   "name": "python",
   "nbconvert_exporter": "python",
   "pygments_lexer": "ipython3",
   "version": "3.11.7"
  }
 },
 "nbformat": 4,
 "nbformat_minor": 5
}
